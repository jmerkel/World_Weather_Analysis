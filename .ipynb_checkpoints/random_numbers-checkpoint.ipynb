{
 "cells": [
  {
   "cell_type": "code",
   "execution_count": 1,
   "metadata": {},
   "outputs": [],
   "source": [
    "# Random Module\n",
    "import random"
   ]
  },
  {
   "cell_type": "code",
   "execution_count": 6,
   "metadata": {},
   "outputs": [],
   "source": [
    "# EXAMPLES\n",
    "\n",
    "#random.random()            --> Float 0.0 - 1\n",
    "#random.randint(-10, 10)    --> Int between x & y (inclusive)\n",
    "#random.randrange(-9, 9, 2) -->\n",
    "#random.uniform(-10, 10)    --> "
   ]
  },
  {
   "cell_type": "code",
   "execution_count": 7,
   "metadata": {},
   "outputs": [
    {
     "data": {
      "text/plain": [
       "16"
      ]
     },
     "execution_count": 7,
     "metadata": {},
     "output_type": "execute_result"
    }
   ],
   "source": [
    "# 6.1.4\n",
    "# Random interager - Latitudes\n",
    "random.randint(-90, 90)"
   ]
  },
  {
   "cell_type": "code",
   "execution_count": 8,
   "metadata": {},
   "outputs": [
    {
     "data": {
      "text/plain": [
       "0.5368863682701124"
      ]
     },
     "execution_count": 8,
     "metadata": {},
     "output_type": "execute_result"
    }
   ],
   "source": [
    "#Minute pieces for latitudes\n",
    "random.random()"
   ]
  },
  {
   "cell_type": "code",
   "execution_count": 9,
   "metadata": {},
   "outputs": [
    {
     "data": {
      "text/plain": [
       "[22.235090776202185,\n",
       " -64.55388963642989,\n",
       " 49.980516876454644,\n",
       " 77.05258345724847,\n",
       " -13.692044931003766,\n",
       " -50.5670985696869,\n",
       " 67.80395114216427,\n",
       " 1.173656934118473,\n",
       " 85.56428610329648,\n",
       " 7.098789192142099]"
      ]
     },
     "execution_count": 9,
     "metadata": {},
     "output_type": "execute_result"
    }
   ],
   "source": [
    "x = 1\n",
    "latitudes = []\n",
    "while x < 11:\n",
    "    random_lat = random.randint(-90, 90) + random.random()\n",
    "    latitudes.append(random_lat)\n",
    "    x += 1\n",
    "    \n",
    "latitudes"
   ]
  },
  {
   "cell_type": "code",
   "execution_count": 20,
   "metadata": {},
   "outputs": [
    {
     "data": {
      "text/plain": [
       "42"
      ]
     },
     "execution_count": 20,
     "metadata": {},
     "output_type": "execute_result"
    }
   ],
   "source": [
    "# Random number within range on a certain step\n",
    "# Default step is 1\n",
    "\n",
    "\n",
    "\n",
    "random.randrange(-90, 90, step = 3) "
   ]
  },
  {
   "cell_type": "code",
   "execution_count": 21,
   "metadata": {},
   "outputs": [
    {
     "data": {
      "text/plain": [
       "-35.62793849881657"
      ]
     },
     "execution_count": 21,
     "metadata": {},
     "output_type": "execute_result"
    }
   ],
   "source": [
    "# Uniform = generate float point between 2 limits\n",
    "random.uniform(-90, 90)"
   ]
  },
  {
   "cell_type": "code",
   "execution_count": 22,
   "metadata": {},
   "outputs": [
    {
     "data": {
      "text/plain": [
       "26.700811763857672"
      ]
     },
     "execution_count": 22,
     "metadata": {},
     "output_type": "execute_result"
    }
   ],
   "source": [
    "# Avoid loop, use NumPy (Random is in NumPy too. One or the other is sufficient)\n",
    "import numpy as np\n",
    "np.random.uniform(-90.000, 90.000)\n",
    "np.random.uniform(low =-90, high = 90) # Named Parameters ok"
   ]
  },
  {
   "cell_type": "code",
   "execution_count": 23,
   "metadata": {},
   "outputs": [
    {
     "data": {
      "text/plain": [
       "array([-63.34636317, -71.06695402, -13.45546582,  78.95420801,\n",
       "        22.06708857, -65.79462972, -17.09447101,   6.53524   ,\n",
       "        78.71736514, -16.28153595, -66.22921483,  49.63944997,\n",
       "        17.28257401,  23.09457209, -51.38526599, -41.34494963,\n",
       "        27.33790856,   1.96984932,  83.08298909, -66.78116311,\n",
       "       -47.70411637,  70.375943  , -30.10141078,  13.90690018,\n",
       "        88.00326996,   3.91781642,  38.3409008 , -26.38126951,\n",
       "        89.17994783, -26.11593614,  89.73461858,  87.04377534,\n",
       "       -75.05305892, -53.11137473,  51.92518166,   0.56232974,\n",
       "        75.53869549, -17.05293462,  19.77018937,  43.43180768,\n",
       "        78.82294307, -67.21975035, -53.66435891,  -0.86311368,\n",
       "        43.22509064,  68.26638155,  84.29188909, -44.71693729,\n",
       "       -29.97610762, -46.8365097 ])"
      ]
     },
     "execution_count": 23,
     "metadata": {},
     "output_type": "execute_result"
    }
   ],
   "source": [
    "# Get multiple items\n",
    "np.random.uniform(-90.000, 90.000, size = 50)"
   ]
  },
  {
   "cell_type": "code",
   "execution_count": 24,
   "metadata": {},
   "outputs": [
    {
     "name": "stdout",
     "output_type": "stream",
     "text": [
      "21.9 µs ± 1.71 µs per loop (mean ± std. dev. of 7 runs, 10000 loops each)\n"
     ]
    }
   ],
   "source": [
    "#Timer\n",
    "import timeit\n",
    "%timeit np.random.uniform(-90.000, 90.000, size = 1500)\n",
    "#21.9 micro seconds +- 1.71 micorseconds"
   ]
  },
  {
   "cell_type": "code",
   "execution_count": 25,
   "metadata": {},
   "outputs": [
    {
     "name": "stdout",
     "output_type": "stream",
     "text": [
      "2.35 ms ± 240 µs per loop (mean ± std. dev. of 7 runs, 100 loops each)\n"
     ]
    }
   ],
   "source": [
    "def latitudes(x):\n",
    "    latitudes = []\n",
    "    while x < 1501:\n",
    "        random_lat = random.randint(-90, 90) + random.random()\n",
    "        latitudes.append(random_lat)\n",
    "        x += 1\n",
    "    return latitudes\n",
    "# Call the function with x = 1.\n",
    "%timeit latitudes(1)"
   ]
  },
  {
   "cell_type": "code",
   "execution_count": 32,
   "metadata": {},
   "outputs": [
    {
     "name": "stdout",
     "output_type": "stream",
     "text": [
      "1.88 µs ± 231 ns per loop (mean ± std. dev. of 7 runs, 1000000 loops each)\n"
     ]
    }
   ],
   "source": [
    "# Refactor with For Loop\n",
    "def latitudes(x):\n",
    "    latitudes = [1500]\n",
    "    for x in latitudes:\n",
    "        random_lat = random.randint(-90, 90) + random.random()\n",
    "        x = random_lat\n",
    "    return latitudes\n",
    "# Call the function with x = 1.\n",
    "%timeit latitudes(0)"
   ]
  },
  {
   "cell_type": "code",
   "execution_count": null,
   "metadata": {},
   "outputs": [],
   "source": []
  }
 ],
 "metadata": {
  "kernelspec": {
   "display_name": "PythonData",
   "language": "python",
   "name": "pythondata"
  },
  "language_info": {
   "codemirror_mode": {
    "name": "ipython",
    "version": 3
   },
   "file_extension": ".py",
   "mimetype": "text/x-python",
   "name": "python",
   "nbconvert_exporter": "python",
   "pygments_lexer": "ipython3",
   "version": "3.7.4"
  }
 },
 "nbformat": 4,
 "nbformat_minor": 2
}
